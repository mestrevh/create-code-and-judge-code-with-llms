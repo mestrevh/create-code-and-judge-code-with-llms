{
 "cells": [
  {
   "cell_type": "markdown",
   "id": "00f04325",
   "metadata": {},
   "source": [
    "## Situação\n",
    "---"
   ]
  },
  {
   "cell_type": "code",
   "execution_count": null,
   "id": "ee592212",
   "metadata": {
    "vscode": {
     "languageId": "plaintext"
    }
   },
   "outputs": [],
   "source": [
    "import pandas as pd\n",
    "import matplotlib.pyplot as plt"
   ]
  },
  {
   "cell_type": "code",
   "execution_count": null,
   "id": "ddcd1eb7",
   "metadata": {
    "vscode": {
     "languageId": "plaintext"
    }
   },
   "outputs": [],
   "source": [
    "data_gpt = pd.read_csv('result_send_code_gpt.csv')\n",
    "data_gemini = pd.read_csv('result_send_code_gpt.csv')"
   ]
  },
  {
   "cell_type": "code",
   "execution_count": null,
   "id": "1dabf30a",
   "metadata": {
    "vscode": {
     "languageId": "plaintext"
    }
   },
   "outputs": [],
   "source": [
    "#### Comparação\n"
   ]
  },
  {
   "cell_type": "markdown",
   "id": "832a1d75",
   "metadata": {},
   "source": []
  }
 ],
 "metadata": {
  "language_info": {
   "name": "python"
  }
 },
 "nbformat": 4,
 "nbformat_minor": 5
}
